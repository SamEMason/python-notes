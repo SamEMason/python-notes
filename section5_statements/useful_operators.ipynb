{
 "cells": [
  {
   "cell_type": "markdown",
   "id": "7f68dd24",
   "metadata": {},
   "source": [
    "# Useful Operators"
   ]
  }
 ],
 "metadata": {
  "language_info": {
   "name": "python"
  }
 },
 "nbformat": 4,
 "nbformat_minor": 5
}
