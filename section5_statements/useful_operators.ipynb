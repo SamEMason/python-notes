{
 "cells": [
  {
   "cell_type": "markdown",
   "id": "7f68dd24",
   "metadata": {},
   "source": [
    "# Useful Operators"
   ]
  },
  {
   "cell_type": "markdown",
   "id": "79bd4e2b",
   "metadata": {},
   "source": [
    "## Range\n",
    "\n",
    "Range is a generator that produces an iterable **range object** containing a sequential list of numbers from a start and end interval\n",
    "\n",
    "Range Syntax:\n",
    "\n",
    "```\n",
    "range(stop) -> range object\n",
    "range(start, stop[, step]) -> range object\n",
    "```"
   ]
  },
  {
   "cell_type": "code",
   "execution_count": 15,
   "id": "1c5593c4",
   "metadata": {},
   "outputs": [
    {
     "data": {
      "text/plain": [
       "range(0, 10)"
      ]
     },
     "execution_count": 15,
     "metadata": {},
     "output_type": "execute_result"
    }
   ],
   "source": [
    "range(10)"
   ]
  },
  {
   "cell_type": "code",
   "execution_count": 16,
   "id": "ab959caa",
   "metadata": {},
   "outputs": [
    {
     "data": {
      "text/plain": [
       "[0, 1, 2, 3, 4, 5, 6, 7, 8, 9]"
      ]
     },
     "execution_count": 16,
     "metadata": {},
     "output_type": "execute_result"
    }
   ],
   "source": [
    "list(range(10))"
   ]
  },
  {
   "cell_type": "code",
   "execution_count": 17,
   "id": "71bedec1",
   "metadata": {},
   "outputs": [],
   "source": [
    "mylist = [1, 2, 3]"
   ]
  },
  {
   "cell_type": "code",
   "execution_count": 18,
   "id": "4824f1c0",
   "metadata": {},
   "outputs": [
    {
     "name": "stdout",
     "output_type": "stream",
     "text": [
      "0 1 2 3 4 5 6 7 8 9 "
     ]
    }
   ],
   "source": [
    "for num in range(10):\n",
    "    print(num, end=\" \")"
   ]
  },
  {
   "cell_type": "code",
   "execution_count": 19,
   "id": "0a464abc",
   "metadata": {},
   "outputs": [
    {
     "name": "stdout",
     "output_type": "stream",
     "text": [
      "3 4 5 6 7 8 9 "
     ]
    }
   ],
   "source": [
    "for num in range(3, 10):\n",
    "    print(num, end=\" \")"
   ]
  },
  {
   "cell_type": "code",
   "execution_count": 21,
   "id": "c5ab1ee5",
   "metadata": {},
   "outputs": [
    {
     "name": "stdout",
     "output_type": "stream",
     "text": [
      "0\n",
      "2\n",
      "4\n",
      "6\n",
      "8\n"
     ]
    }
   ],
   "source": [
    "for num in range (0, 10, 2):\n",
    "    print(num)"
   ]
  },
  {
   "cell_type": "markdown",
   "id": "418246e6",
   "metadata": {},
   "source": [
    "## Enumerate"
   ]
  },
  {
   "cell_type": "code",
   "execution_count": 25,
   "id": "5cafad19",
   "metadata": {},
   "outputs": [
    {
     "name": "stdout",
     "output_type": "stream",
     "text": [
      "At index 0 the letter is a\n",
      "At index 1 the letter is b\n",
      "At index 2 the letter is c\n",
      "At index 3 the letter is d\n",
      "At index 4 the letter is e\n"
     ]
    }
   ],
   "source": [
    "index = 0\n",
    "\n",
    "for letter in \"abcde\":\n",
    "    print(\"At index {} the letter is {}\".format(index, letter))\n",
    "    index += 1"
   ]
  },
  {
   "cell_type": "code",
   "execution_count": 28,
   "id": "dc0da0c3",
   "metadata": {},
   "outputs": [
    {
     "name": "stdout",
     "output_type": "stream",
     "text": [
      "(0, 'a')\n",
      "(1, 'b')\n",
      "(2, 'c')\n",
      "(3, 'd')\n",
      "(4, 'e')\n"
     ]
    }
   ],
   "source": [
    "for item in enumerate(\"abcde\"):\n",
    "    print(item)"
   ]
  },
  {
   "cell_type": "code",
   "execution_count": 31,
   "id": "72b6551e",
   "metadata": {},
   "outputs": [
    {
     "name": "stdout",
     "output_type": "stream",
     "text": [
      "At index 0 the letter is a\n",
      "At index 1 the letter is b\n",
      "At index 2 the letter is c\n",
      "At index 3 the letter is d\n",
      "At index 4 the letter is e\n"
     ]
    }
   ],
   "source": [
    "for index, letter in enumerate(\"abcde\"):\n",
    "    print(f\"At index {index} the letter is {letter}\")"
   ]
  },
  {
   "cell_type": "markdown",
   "id": "8308234b",
   "metadata": {},
   "source": [
    "## Zip"
   ]
  },
  {
   "cell_type": "code",
   "execution_count": 38,
   "id": "f600124f",
   "metadata": {},
   "outputs": [],
   "source": [
    "my_number_list = [1, 2, 3, 4, 5]\n",
    "my_letter_list = [\"a\", \"b\", \"c\", \"d\", \"e\"]\n",
    "my_special_char_list = [\"!\", \"@\", \"#\", \"$\", \"%\"]"
   ]
  },
  {
   "cell_type": "code",
   "execution_count": 37,
   "id": "69630f78",
   "metadata": {},
   "outputs": [
    {
     "name": "stdout",
     "output_type": "stream",
     "text": [
      "(1, 'a')\n",
      "(2, 'b')\n",
      "(3, 'c')\n",
      "(4, 'd')\n",
      "(5, 'e')\n"
     ]
    }
   ],
   "source": [
    "for item in zip(my_number_list, my_letter_list):\n",
    "    print(item)"
   ]
  },
  {
   "cell_type": "code",
   "execution_count": 43,
   "id": "b4811d8e",
   "metadata": {},
   "outputs": [
    {
     "name": "stdout",
     "output_type": "stream",
     "text": [
      "number\tletter\tspec_char\n",
      "1\ta\t!\n",
      "2\tb\t@\n",
      "3\tc\t#\n",
      "4\td\t$\n",
      "5\te\t%\n"
     ]
    }
   ],
   "source": [
    "print(\"number\\tletter\\tspec_char\")\n",
    "\n",
    "for number, letter, spec_char in zip(my_number_list, my_letter_list, my_special_char_list):\n",
    "    print(f\"{number}\\t{letter}\\t{spec_char}\")"
   ]
  },
  {
   "cell_type": "code",
   "execution_count": 45,
   "id": "53e37f92",
   "metadata": {},
   "outputs": [
    {
     "data": {
      "text/plain": [
       "[(1, 'a', '!'), (2, 'b', '@'), (3, 'c', '#'), (4, 'd', '$'), (5, 'e', '%')]"
      ]
     },
     "execution_count": 45,
     "metadata": {},
     "output_type": "execute_result"
    }
   ],
   "source": [
    "list(zip(my_number_list, my_letter_list, my_special_char_list))"
   ]
  },
  {
   "cell_type": "markdown",
   "id": "48365d76",
   "metadata": {},
   "source": [
    "## In"
   ]
  },
  {
   "cell_type": "code",
   "execution_count": 52,
   "id": "409dfa5f",
   "metadata": {},
   "outputs": [
    {
     "data": {
      "text/plain": [
       "True"
      ]
     },
     "execution_count": 52,
     "metadata": {},
     "output_type": "execute_result"
    }
   ],
   "source": [
    "\"x\" in \"the word xylophone?\""
   ]
  },
  {
   "cell_type": "code",
   "execution_count": 53,
   "id": "343fa6ad",
   "metadata": {},
   "outputs": [
    {
     "data": {
      "text/plain": [
       "False"
      ]
     },
     "execution_count": 53,
     "metadata": {},
     "output_type": "execute_result"
    }
   ],
   "source": [
    "\"x\" in [1, 2, 3, 4]"
   ]
  },
  {
   "cell_type": "code",
   "execution_count": 55,
   "id": "9c4e6682",
   "metadata": {},
   "outputs": [
    {
     "data": {
      "text/plain": [
       "True"
      ]
     },
     "execution_count": 55,
     "metadata": {},
     "output_type": "execute_result"
    }
   ],
   "source": [
    "\"target_key\" in {\"target_key\": \"w\", \"k2\": \"x\", \"k3\": \"y\"}"
   ]
  },
  {
   "cell_type": "code",
   "execution_count": 56,
   "id": "0f117b78",
   "metadata": {},
   "outputs": [
    {
     "data": {
      "text/plain": [
       "True"
      ]
     },
     "execution_count": 56,
     "metadata": {},
     "output_type": "execute_result"
    }
   ],
   "source": [
    "\"target_value\" in {\"k1\": \"w\", \"k2\": \"target_value\", \"k3\": \"y\"}.values()"
   ]
  },
  {
   "cell_type": "markdown",
   "id": "a81e5941",
   "metadata": {},
   "source": [
    "## Numerical Methods"
   ]
  },
  {
   "cell_type": "code",
   "execution_count": 58,
   "id": "b48221da",
   "metadata": {},
   "outputs": [],
   "source": [
    "mylist = [10, 20, 30, 40, 100]"
   ]
  },
  {
   "cell_type": "code",
   "execution_count": 59,
   "id": "51b31c64",
   "metadata": {},
   "outputs": [
    {
     "data": {
      "text/plain": [
       "10"
      ]
     },
     "execution_count": 59,
     "metadata": {},
     "output_type": "execute_result"
    }
   ],
   "source": [
    "min(mylist)"
   ]
  },
  {
   "cell_type": "code",
   "execution_count": 60,
   "id": "e0a7fd24",
   "metadata": {},
   "outputs": [
    {
     "data": {
      "text/plain": [
       "100"
      ]
     },
     "execution_count": 60,
     "metadata": {},
     "output_type": "execute_result"
    }
   ],
   "source": [
    "max(mylist)"
   ]
  },
  {
   "cell_type": "markdown",
   "id": "d98710fe",
   "metadata": {},
   "source": [
    "## Random Library"
   ]
  },
  {
   "cell_type": "code",
   "execution_count": 66,
   "id": "61185b4c",
   "metadata": {},
   "outputs": [],
   "source": [
    "from random import shuffle\n",
    "\n",
    "mylist = [1, 2, 3, 4, 5, 6, 7, 8, 9, 10]"
   ]
  },
  {
   "cell_type": "code",
   "execution_count": 67,
   "id": "a5459c41",
   "metadata": {},
   "outputs": [],
   "source": [
    "# Randomly rearranges the list items in place\n",
    "shuffle(mylist)"
   ]
  },
  {
   "cell_type": "code",
   "execution_count": 69,
   "id": "7a434a54",
   "metadata": {},
   "outputs": [
    {
     "data": {
      "text/plain": [
       "[6, 3, 4, 2, 10, 1, 5, 7, 8, 9]"
      ]
     },
     "execution_count": 69,
     "metadata": {},
     "output_type": "execute_result"
    }
   ],
   "source": [
    "mylist"
   ]
  },
  {
   "cell_type": "code",
   "execution_count": 75,
   "id": "71026f74",
   "metadata": {},
   "outputs": [
    {
     "name": "stdout",
     "output_type": "stream",
     "text": [
      "47 8 88 30 92 35 5 52 73 93 "
     ]
    }
   ],
   "source": [
    "from random import randint\n",
    "\n",
    "for i in range(10):\n",
    "    print(randint(0, 100), end=\" \")"
   ]
  },
  {
   "cell_type": "markdown",
   "id": "afbef61f",
   "metadata": {},
   "source": [
    "## User Input"
   ]
  },
  {
   "cell_type": "code",
   "execution_count": 80,
   "id": "cb901b3e",
   "metadata": {},
   "outputs": [],
   "source": [
    "result = input(\"Enter your input here:\")"
   ]
  },
  {
   "cell_type": "code",
   "execution_count": 81,
   "id": "563e78dd",
   "metadata": {},
   "outputs": [
    {
     "name": "stdout",
     "output_type": "stream",
     "text": [
      "You entered: something really funny and clever!!\n"
     ]
    }
   ],
   "source": [
    "print(f\"You entered: {result}\")"
   ]
  },
  {
   "cell_type": "code",
   "execution_count": 84,
   "id": "87b4cc90",
   "metadata": {},
   "outputs": [],
   "source": [
    "result = input(\"Favorite number:\")"
   ]
  },
  {
   "cell_type": "code",
   "execution_count": 85,
   "id": "0ddab0bb",
   "metadata": {},
   "outputs": [
    {
     "data": {
      "text/plain": [
       "str"
      ]
     },
     "execution_count": 85,
     "metadata": {},
     "output_type": "execute_result"
    }
   ],
   "source": [
    "type(result)"
   ]
  },
  {
   "cell_type": "code",
   "execution_count": 86,
   "id": "1f52ca4e",
   "metadata": {},
   "outputs": [
    {
     "data": {
      "text/plain": [
       "4.0"
      ]
     },
     "execution_count": 86,
     "metadata": {},
     "output_type": "execute_result"
    }
   ],
   "source": [
    "float(result)"
   ]
  },
  {
   "cell_type": "code",
   "execution_count": 87,
   "id": "ccc2339e",
   "metadata": {},
   "outputs": [
    {
     "data": {
      "text/plain": [
       "4"
      ]
     },
     "execution_count": 87,
     "metadata": {},
     "output_type": "execute_result"
    }
   ],
   "source": [
    "int(result)"
   ]
  }
 ],
 "metadata": {
  "kernelspec": {
   "display_name": "Python 3",
   "language": "python",
   "name": "python3"
  },
  "language_info": {
   "codemirror_mode": {
    "name": "ipython",
    "version": 3
   },
   "file_extension": ".py",
   "mimetype": "text/x-python",
   "name": "python",
   "nbconvert_exporter": "python",
   "pygments_lexer": "ipython3",
   "version": "3.12.3"
  }
 },
 "nbformat": 4,
 "nbformat_minor": 5
}
