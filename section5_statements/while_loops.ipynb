{
 "cells": [
  {
   "cell_type": "markdown",
   "id": "ca12a8ea",
   "metadata": {},
   "source": [
    "# Section 5"
   ]
  },
  {
   "cell_type": "markdown",
   "id": "9b773998",
   "metadata": {},
   "source": [
    "## While Loops"
   ]
  },
  {
   "cell_type": "markdown",
   "id": "dadaf6ff",
   "metadata": {},
   "source": [
    "#### Syntax of a while loop:\n",
    "\n",
    "```\n",
    "while condition:\n",
    "    # do something\n",
    "else:\n",
    "    # do something else\n",
    "```"
   ]
  },
  {
   "cell_type": "code",
   "execution_count": 48,
   "id": "06757ec7",
   "metadata": {},
   "outputs": [
    {
     "name": "stdout",
     "output_type": "stream",
     "text": [
      "0 1 2 3 4 ... Iteration complete.\n"
     ]
    }
   ],
   "source": [
    "x = 0\n",
    "\n",
    "while x < 5:\n",
    "    print(x, end=\" \")\n",
    "    x += 1\n",
    "else:\n",
    "    print(\"... Iteration complete.\")"
   ]
  },
  {
   "cell_type": "markdown",
   "id": "98dd92f0",
   "metadata": {},
   "source": [
    "## Break, continue, pass\n",
    "\n",
    "We can use break, continue and pass statements in our loops to add additional functionality for various cases. The three statements are defined by:\n",
    "\n",
    "```\n",
    "    break: Breaks out of the current closest enclosing loop.\n",
    "    continue: Goes to the top of the closest enclosing loop.\n",
    "    pass: Does nothing at all (placeholder execution).\n",
    "```"
   ]
  },
  {
   "cell_type": "markdown",
   "id": "0aab8f21",
   "metadata": {},
   "source": [
    "### Break"
   ]
  },
  {
   "cell_type": "code",
   "execution_count": 49,
   "id": "bff3f72a",
   "metadata": {},
   "outputs": [
    {
     "name": "stdout",
     "output_type": "stream",
     "text": [
      "0 1 2 3 4 "
     ]
    }
   ],
   "source": [
    "x = 0\n",
    "\n",
    "while True:\n",
    "    if x >= 5: # Break out of iteration when x is greater than or equal to 5\n",
    "        break \n",
    "    print(x, end=\" \")\n",
    "    x += 1"
   ]
  },
  {
   "cell_type": "markdown",
   "id": "318aa8f3",
   "metadata": {},
   "source": [
    "### Continue\n",
    "\n",
    "Continue returns execution to the top of the next loop iteration. Every line sequentially after the **continue** statement will be skipped."
   ]
  },
  {
   "cell_type": "code",
   "execution_count": 50,
   "id": "5bc63189",
   "metadata": {},
   "outputs": [],
   "source": [
    "mystring = \"An example of a good example string to use.\""
   ]
  },
  {
   "cell_type": "code",
   "execution_count": 51,
   "id": "f7776c9e",
   "metadata": {},
   "outputs": [
    {
     "name": "stdout",
     "output_type": "stream",
     "text": [
      "Anexampleofagoodexamplestringtouse."
     ]
    }
   ],
   "source": [
    "for letter in mystring:\n",
    "    if letter == \" \": continue  # If the character is a space, \n",
    "    print(letter, end=\"\")       # skip sequential execution for this iteration"
   ]
  },
  {
   "cell_type": "markdown",
   "id": "38b2247b",
   "metadata": {},
   "source": [
    "### Pass\n",
    "\n",
    "Pass is used when you temporarily need to stub a block of execution. Below, the code block in the for loop contains only a comment, leading to an **incomplete input** syntax error:"
   ]
  },
  {
   "cell_type": "code",
   "execution_count": 52,
   "id": "9fde2baf",
   "metadata": {},
   "outputs": [],
   "source": [
    "x = [1, 2, 3]"
   ]
  },
  {
   "cell_type": "code",
   "execution_count": 53,
   "id": "fe7eeba8",
   "metadata": {},
   "outputs": [
    {
     "ename": "SyntaxError",
     "evalue": "incomplete input (797685561.py, line 2)",
     "output_type": "error",
     "traceback": [
      "  \u001b[36mCell\u001b[39m\u001b[36m \u001b[39m\u001b[32mIn[53]\u001b[39m\u001b[32m, line 2\u001b[39m\n\u001b[31m    \u001b[39m\u001b[31m# comment\u001b[39m\n             ^\n\u001b[31mSyntaxError\u001b[39m\u001b[31m:\u001b[39m incomplete input\n"
     ]
    }
   ],
   "source": [
    "for item in x:\n",
    "    # comment"
   ]
  },
  {
   "cell_type": "markdown",
   "id": "06d1aa51",
   "metadata": {},
   "source": [
    "Instead of a comment, pass can be used to *pass* the execution through the block of code without throwing an error:"
   ]
  },
  {
   "cell_type": "code",
   "execution_count": null,
   "id": "75acb85c",
   "metadata": {},
   "outputs": [],
   "source": [
    "for item in x:\n",
    "    pass"
   ]
  }
 ],
 "metadata": {
  "kernelspec": {
   "display_name": "Python 3",
   "language": "python",
   "name": "python3"
  },
  "language_info": {
   "codemirror_mode": {
    "name": "ipython",
    "version": 3
   },
   "file_extension": ".py",
   "mimetype": "text/x-python",
   "name": "python",
   "nbconvert_exporter": "python",
   "pygments_lexer": "ipython3",
   "version": "3.12.3"
  }
 },
 "nbformat": 4,
 "nbformat_minor": 5
}
