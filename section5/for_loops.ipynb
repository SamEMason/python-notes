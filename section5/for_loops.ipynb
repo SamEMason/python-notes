{
 "cells": [
  {
   "cell_type": "markdown",
   "id": "3d17ac33",
   "metadata": {},
   "source": [
    "# Section 5"
   ]
  },
  {
   "cell_type": "markdown",
   "id": "7ed3a12e",
   "metadata": {},
   "source": [
    "## For Loops"
   ]
  },
  {
   "cell_type": "code",
   "execution_count": 6,
   "id": "e7bf1f10",
   "metadata": {},
   "outputs": [],
   "source": [
    "mylist = [1, 2, 3, 4, 5, 6, 7, 8, 9, 10]"
   ]
  },
  {
   "cell_type": "markdown",
   "id": "f505bb7f",
   "metadata": {},
   "source": [
    "#### Print out whether the numbers in the list are ODD or EVEN"
   ]
  },
  {
   "cell_type": "code",
   "execution_count": 7,
   "id": "b2b92491",
   "metadata": {},
   "outputs": [
    {
     "name": "stdout",
     "output_type": "stream",
     "text": [
      "Odd:\t1\n",
      "Even:\t2\n",
      "Odd:\t3\n",
      "Even:\t4\n",
      "Odd:\t5\n",
      "Even:\t6\n",
      "Odd:\t7\n",
      "Even:\t8\n",
      "Odd:\t9\n",
      "Even:\t10\n"
     ]
    }
   ],
   "source": [
    "for item in mylist:\n",
    "    if item % 2 == 0:\n",
    "        print(f\"Even:\\t{item}\")\n",
    "    else:\n",
    "        print(f\"Odd:\\t{item}\")"
   ]
  },
  {
   "cell_type": "markdown",
   "id": "c7ca1148",
   "metadata": {},
   "source": [
    "#### Sum of all numbers in the list"
   ]
  },
  {
   "cell_type": "code",
   "execution_count": 8,
   "id": "fe815d66",
   "metadata": {},
   "outputs": [
    {
     "name": "stdout",
     "output_type": "stream",
     "text": [
      "The sum of all numbers in mylist: 55\n"
     ]
    }
   ],
   "source": [
    "mylist_sum = 0\n",
    "\n",
    "for item in mylist:\n",
    "    mylist_sum += item\n",
    "\n",
    "print(f\"The sum of all numbers in mylist: {mylist_sum}\")"
   ]
  },
  {
   "cell_type": "markdown",
   "id": "0cd2aca4",
   "metadata": {},
   "source": [
    "#### Print out individual letters of a string"
   ]
  },
  {
   "cell_type": "code",
   "execution_count": 9,
   "id": "1ccadeec",
   "metadata": {},
   "outputs": [
    {
     "name": "stdout",
     "output_type": "stream",
     "text": [
      "A n   e x a m p l e   o f   a   r e a l l y   g o o d   s t r i n g   t o   u s e . "
     ]
    }
   ],
   "source": [
    "mystring = \"An example of a really good string to use.\"\n",
    "\n",
    "for letter in mystring:\n",
    "    print(letter, end=\" \")"
   ]
  },
  {
   "cell_type": "markdown",
   "id": "86040c78",
   "metadata": {},
   "source": [
    "#### Iterating through string length without using string characters"
   ]
  },
  {
   "cell_type": "code",
   "execution_count": 11,
   "id": "f8ff022f",
   "metadata": {},
   "outputs": [
    {
     "name": "stdout",
     "output_type": "stream",
     "text": [
      "0 0 0 0 0 0 0 0 0 0 0 0 0 0 0 0 0 0 0 0 0 0 0 0 0 0 0 0 0 0 0 0 0 0 0 0 0 0 0 0 0 0 "
     ]
    }
   ],
   "source": [
    "for _ in mystring:\n",
    "    print(0, end=\" \")"
   ]
  },
  {
   "cell_type": "markdown",
   "id": "68479dd7",
   "metadata": {},
   "source": [
    "#### Iterate through elements of a tuple"
   ]
  },
  {
   "cell_type": "code",
   "execution_count": 13,
   "id": "86673ad4",
   "metadata": {},
   "outputs": [
    {
     "name": "stdout",
     "output_type": "stream",
     "text": [
      "1\n",
      "2\n",
      "3\n"
     ]
    }
   ],
   "source": [
    "tup = (1, 2, 3)\n",
    "\n",
    "for item in tup:\n",
    "    print(item)"
   ]
  },
  {
   "cell_type": "markdown",
   "id": "fb1ee3a2",
   "metadata": {},
   "source": [
    "#### Tuple unpacking"
   ]
  },
  {
   "cell_type": "code",
   "execution_count": 15,
   "id": "295e0464",
   "metadata": {},
   "outputs": [
    {
     "data": {
      "text/plain": [
       "4"
      ]
     },
     "execution_count": 15,
     "metadata": {},
     "output_type": "execute_result"
    }
   ],
   "source": [
    "mylist = [(1, 2), (3, 4), (5, 6), (7, 8)]\n",
    "len(mylist)"
   ]
  },
  {
   "cell_type": "code",
   "execution_count": 16,
   "id": "393391a4",
   "metadata": {},
   "outputs": [
    {
     "name": "stdout",
     "output_type": "stream",
     "text": [
      "(1, 2)\n",
      "(3, 4)\n",
      "(5, 6)\n",
      "(7, 8)\n"
     ]
    }
   ],
   "source": [
    "for item in mylist:\n",
    "    print(item)"
   ]
  },
  {
   "cell_type": "code",
   "execution_count": 17,
   "id": "3eed744d",
   "metadata": {},
   "outputs": [
    {
     "name": "stdout",
     "output_type": "stream",
     "text": [
      "1 2\n",
      "3 4\n",
      "5 6\n",
      "7 8\n"
     ]
    }
   ],
   "source": [
    "for a, b in mylist:\n",
    "    print(a, b)"
   ]
  },
  {
   "cell_type": "code",
   "execution_count": 1,
   "id": "82e89dce",
   "metadata": {},
   "outputs": [],
   "source": [
    "mylist = [(1, 2, 3), (4, 5, 6), (7, 8, 9)]"
   ]
  },
  {
   "cell_type": "code",
   "execution_count": 3,
   "id": "02efb94e",
   "metadata": {},
   "outputs": [
    {
     "name": "stdout",
     "output_type": "stream",
     "text": [
      "(1, 2, 3)\n",
      "(4, 5, 6)\n",
      "(7, 8, 9)\n"
     ]
    }
   ],
   "source": [
    "for item in mylist:\n",
    "    print(item)"
   ]
  },
  {
   "cell_type": "code",
   "execution_count": 4,
   "id": "61e1bf31",
   "metadata": {},
   "outputs": [
    {
     "name": "stdout",
     "output_type": "stream",
     "text": [
      "3\n",
      "6\n",
      "9\n"
     ]
    }
   ],
   "source": [
    "for a, b, c in mylist:\n",
    "    print(c)"
   ]
  },
  {
   "cell_type": "markdown",
   "id": "98e8f04c",
   "metadata": {},
   "source": [
    "#### Iterating through a dictionary"
   ]
  },
  {
   "cell_type": "code",
   "execution_count": 7,
   "id": "534c0da4",
   "metadata": {},
   "outputs": [],
   "source": [
    "d = {\"k1\": 1, \"k2\": 2, \"k3\": 3}"
   ]
  },
  {
   "cell_type": "markdown",
   "id": "776133cf",
   "metadata": {},
   "source": [
    "Iterating through items in dictionary by default iterates through its keys"
   ]
  },
  {
   "cell_type": "code",
   "execution_count": 9,
   "id": "3f71a6bf",
   "metadata": {},
   "outputs": [
    {
     "name": "stdout",
     "output_type": "stream",
     "text": [
      "k1\n",
      "k2\n",
      "k3\n"
     ]
    }
   ],
   "source": [
    "for item in d:\n",
    "    print(item)"
   ]
  },
  {
   "cell_type": "markdown",
   "id": "cfaf612e",
   "metadata": {},
   "source": [
    "To iterate through the items, use the items method"
   ]
  },
  {
   "cell_type": "code",
   "execution_count": 11,
   "id": "87129de2",
   "metadata": {},
   "outputs": [
    {
     "name": "stdout",
     "output_type": "stream",
     "text": [
      "('k1', 1)\n",
      "('k2', 2)\n",
      "('k3', 3)\n"
     ]
    }
   ],
   "source": [
    "for item in d.items():\n",
    "    print(item)"
   ]
  },
  {
   "cell_type": "markdown",
   "id": "6ca6328e",
   "metadata": {},
   "source": [
    "There are also keys and values methods"
   ]
  },
  {
   "cell_type": "code",
   "execution_count": 18,
   "id": "d3f45d9c",
   "metadata": {},
   "outputs": [
    {
     "name": "stdout",
     "output_type": "stream",
     "text": [
      "k1\n",
      "k2\n",
      "k3\n"
     ]
    }
   ],
   "source": [
    "for item in d.keys():\n",
    "    print(item)"
   ]
  },
  {
   "cell_type": "code",
   "execution_count": 19,
   "id": "ee62c4af",
   "metadata": {},
   "outputs": [
    {
     "name": "stdout",
     "output_type": "stream",
     "text": [
      "1\n",
      "2\n",
      "3\n"
     ]
    }
   ],
   "source": [
    "for item in d.values():\n",
    "    print(item)"
   ]
  },
  {
   "cell_type": "code",
   "execution_count": null,
   "id": "73262208",
   "metadata": {},
   "outputs": [],
   "source": []
  }
 ],
 "metadata": {
  "kernelspec": {
   "display_name": "Python 3",
   "language": "python",
   "name": "python3"
  },
  "language_info": {
   "codemirror_mode": {
    "name": "ipython",
    "version": 3
   },
   "file_extension": ".py",
   "mimetype": "text/x-python",
   "name": "python",
   "nbconvert_exporter": "python",
   "pygments_lexer": "ipython3",
   "version": "3.12.3"
  }
 },
 "nbformat": 4,
 "nbformat_minor": 5
}
