{
 "cells": [
  {
   "cell_type": "markdown",
   "id": "46516e83",
   "metadata": {},
   "source": [
    "# Section 5\n",
    "## List Comprehensions"
   ]
  },
  {
   "cell_type": "markdown",
   "id": "7a1288a2",
   "metadata": {},
   "source": [
    "A unique way of quickly creating a list with Python."
   ]
  },
  {
   "cell_type": "code",
   "execution_count": 49,
   "id": "32c35499",
   "metadata": {},
   "outputs": [],
   "source": [
    "mystring = 'hello'"
   ]
  },
  {
   "cell_type": "markdown",
   "id": "5a9a3d1e",
   "metadata": {},
   "source": [
    "#### For Loop Implementation"
   ]
  },
  {
   "cell_type": "code",
   "execution_count": 50,
   "id": "85c0f952",
   "metadata": {},
   "outputs": [
    {
     "data": {
      "text/plain": [
       "['h', 'e', 'l', 'l', 'o']"
      ]
     },
     "execution_count": 50,
     "metadata": {},
     "output_type": "execute_result"
    }
   ],
   "source": [
    "mylist = []\n",
    "\n",
    "for letter in mystring:\n",
    "    mylist.append(letter)\n",
    "\n",
    "mylist"
   ]
  },
  {
   "cell_type": "markdown",
   "id": "20755676",
   "metadata": {},
   "source": [
    "#### Equivalent List Comprehension Implementation"
   ]
  },
  {
   "cell_type": "code",
   "execution_count": 51,
   "id": "3acd3b34",
   "metadata": {},
   "outputs": [
    {
     "data": {
      "text/plain": [
       "['h', 'e', 'l', 'l', 'o']"
      ]
     },
     "execution_count": 51,
     "metadata": {},
     "output_type": "execute_result"
    }
   ],
   "source": [
    "[letter for letter in mystring]"
   ]
  },
  {
   "cell_type": "code",
   "execution_count": 52,
   "id": "c0adf1dd",
   "metadata": {},
   "outputs": [
    {
     "data": {
      "text/plain": [
       "['w', 'o', 'r', 'd']"
      ]
     },
     "execution_count": 52,
     "metadata": {},
     "output_type": "execute_result"
    }
   ],
   "source": [
    "[x for x in 'word']"
   ]
  },
  {
   "cell_type": "code",
   "execution_count": 53,
   "id": "84d776da",
   "metadata": {},
   "outputs": [
    {
     "data": {
      "text/plain": [
       "[1, 1, 4, 27, 256, 3125, 46656, 823543, 16777216, 387420489, 10000000000]"
      ]
     },
     "execution_count": 53,
     "metadata": {},
     "output_type": "execute_result"
    }
   ],
   "source": [
    "[num**num for num in range(0, 11)]"
   ]
  },
  {
   "cell_type": "code",
   "execution_count": 54,
   "id": "2c48205b",
   "metadata": {},
   "outputs": [
    {
     "data": {
      "text/plain": [
       "[0, 2, 4, 6, 8, 10]"
      ]
     },
     "execution_count": 54,
     "metadata": {},
     "output_type": "execute_result"
    }
   ],
   "source": [
    "[num for num in range(0, 11) if num % 2 == 0]"
   ]
  },
  {
   "cell_type": "markdown",
   "id": "8ffa8dba",
   "metadata": {},
   "source": [
    "#### Arithmetic in List Comprehension"
   ]
  },
  {
   "cell_type": "code",
   "execution_count": 55,
   "id": "26da60d5",
   "metadata": {},
   "outputs": [],
   "source": [
    "celcius = [0, 10, 20, 34.5]\n",
    "\n",
    "fahrenheit = [((9/5) * temp + 32) for temp in celcius]"
   ]
  },
  {
   "cell_type": "code",
   "execution_count": 56,
   "id": "cee01926",
   "metadata": {},
   "outputs": [
    {
     "data": {
      "text/plain": [
       "[32.0, 50.0, 68.0, 94.1]"
      ]
     },
     "execution_count": 56,
     "metadata": {},
     "output_type": "execute_result"
    }
   ],
   "source": [
    "fahrenheit"
   ]
  },
  {
   "cell_type": "markdown",
   "id": "b4c22c13",
   "metadata": {},
   "source": [
    "#### If/Else in List Comprehension"
   ]
  },
  {
   "cell_type": "code",
   "execution_count": 57,
   "id": "f26b6d7b",
   "metadata": {},
   "outputs": [
    {
     "data": {
      "text/plain": [
       "[0, 'ODD', 2, 'ODD', 4, 'ODD', 6, 'ODD', 8, 'ODD', 10]"
      ]
     },
     "execution_count": 57,
     "metadata": {},
     "output_type": "execute_result"
    }
   ],
   "source": [
    "[x if x % 2 == 0 else 'ODD' for x in range(0, 11)]"
   ]
  },
  {
   "cell_type": "markdown",
   "id": "2186620e",
   "metadata": {},
   "source": [
    "#### Nested loops"
   ]
  },
  {
   "cell_type": "code",
   "execution_count": 58,
   "id": "45d83699",
   "metadata": {},
   "outputs": [
    {
     "data": {
      "text/plain": [
       "[2, 20, 200, 4, 40, 400, 6, 60, 600]"
      ]
     },
     "execution_count": 58,
     "metadata": {},
     "output_type": "execute_result"
    }
   ],
   "source": [
    "[x*y for x in [2, 4, 6] for y in [1, 10, 100]]"
   ]
  }
 ],
 "metadata": {
  "kernelspec": {
   "display_name": "Python 3",
   "language": "python",
   "name": "python3"
  },
  "language_info": {
   "codemirror_mode": {
    "name": "ipython",
    "version": 3
   },
   "file_extension": ".py",
   "mimetype": "text/x-python",
   "name": "python",
   "nbconvert_exporter": "python",
   "pygments_lexer": "ipython3",
   "version": "3.12.3"
  }
 },
 "nbformat": 4,
 "nbformat_minor": 5
}
